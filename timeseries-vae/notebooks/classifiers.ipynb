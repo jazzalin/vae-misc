{
 "cells": [
  {
   "cell_type": "code",
   "execution_count": 1,
   "metadata": {},
   "outputs": [],
   "source": [
    "import numpy as np\n",
    "import pandas as pd\n",
    "import matplotlib.pyplot as plt\n",
    "import glob\n",
    "from seglearn.transform import InterpLongToWide, SegmentX, FeatureRep, PadTrunc\n",
    "from seglearn.pipe import Pype\n",
    "\n",
    "from sklearn.preprocessing import StandardScaler\n",
    "from sklearn.ensemble import RandomForestClassifier\n",
    "from sklearn.discriminant_analysis import LinearDiscriminantAnalysis\n",
    "from sklearn.model_selection import GroupKFold, StratifiedKFold, train_test_split\n",
    "from sklearn.metrics import confusion_matrix\n",
    "%matplotlib inline"
   ]
  },
  {
   "cell_type": "markdown",
   "metadata": {},
   "source": [
    "## Experimenting with Seglearn and RandomForestClassifier"
   ]
  },
  {
   "cell_type": "code",
   "execution_count": 28,
   "metadata": {},
   "outputs": [],
   "source": [
    "# data = np.load(\"resampled_nar.npy\", allow_pickle=True).item()\n",
    "data = np.load(\"cropped_resampled_acc_nar.npy\", allow_pickle=True).item()"
   ]
  },
  {
   "cell_type": "markdown",
   "metadata": {},
   "source": [
    "Resampling was fixed to a frequency of 1ms. Playing with the window size and overlap parameter may help improve accuracy"
   ]
  },
  {
   "cell_type": "code",
   "execution_count": 29,
   "metadata": {},
   "outputs": [],
   "source": [
    "# mdl\n",
    "\n",
    "fs = 0.01 # 10 ms\n",
    "width = int(2.0 / fs) # 2s\n",
    "overlap = 0.5\n",
    "\n",
    "# NOTE: removed the interpolation step as resampling was already done\n",
    "mdl = Pype([('segment', SegmentX(width, overlap)),\n",
    "            ('ftr', FeatureRep()),\n",
    "            ('scaler', StandardScaler()),\n",
    "            ('clf', RandomForestClassifier(n_estimators=500))])"
   ]
  },
  {
   "cell_type": "markdown",
   "metadata": {},
   "source": [
    "## Using stratified K-folds"
   ]
  },
  {
   "cell_type": "code",
   "execution_count": 30,
   "metadata": {
    "scrolled": true,
    "tags": [
     "outputPrepend",
     "outputPrepend",
     "outputPrepend"
    ]
   },
   "outputs": [
    {
     "name": "stdout",
     "output_type": "stream",
     "text": [
      "Running on fold:  0\n",
      "Accuracy:  0.8590038314176245\n",
      "Running on fold:  1\n",
      "Accuracy:  0.8578874750881497\n",
      "Running on fold:  2\n",
      "Accuracy:  0.8616564417177914\n",
      "Running on fold:  3\n",
      "Accuracy:  0.8513803680981595\n",
      "Running on fold:  4\n",
      "Accuracy:  0.8585455661245781\n"
     ]
    }
   ],
   "source": [
    "# predict exercise class\n",
    "\n",
    "X = data['X'][:,:,1:]\n",
    "y = data['exnum']\n",
    "subject = data['subject']\n",
    "\n",
    "# gkf = GroupKFold(n_splits=3)\n",
    "gkf = StratifiedKFold(n_splits=5, shuffle=True, random_state=26)\n",
    "\n",
    "for i, (train, test) in enumerate(gkf.split(X, y, groups=subject)):\n",
    "    print(\"Running on fold: \", i)\n",
    "    fold = X[train]\n",
    "    mdl.fit(X[train], y[train])\n",
    "    acc = mdl.score(X[test], y[test])\n",
    "    print(\"Accuracy: \", acc)\n"
   ]
  },
  {
   "cell_type": "code",
   "execution_count": 1,
   "metadata": {},
   "outputs": [
    {
     "ename": "NameError",
     "evalue": "name 'np' is not defined",
     "output_type": "error",
     "traceback": [
      "\u001b[0;31m---------------------------------------\u001b[0m",
      "\u001b[0;31mNameError\u001b[0mTraceback (most recent call last)",
      "\u001b[0;32m<ipython-input-1-dbe4dfa164cd>\u001b[0m in \u001b[0;36m<module>\u001b[0;34m\u001b[0m\n\u001b[0;32m----> 1\u001b[0;31m \u001b[0mrecon_data\u001b[0m \u001b[0;34m=\u001b[0m \u001b[0mnp\u001b[0m\u001b[0;34m.\u001b[0m\u001b[0mload\u001b[0m\u001b[0;34m(\u001b[0m\u001b[0;34m\"synthetic_acc_nar_500.npy\"\u001b[0m\u001b[0;34m,\u001b[0m \u001b[0mallow_pickle\u001b[0m\u001b[0;34m=\u001b[0m\u001b[0;32mTrue\u001b[0m\u001b[0;34m)\u001b[0m\u001b[0;34m.\u001b[0m\u001b[0mitem\u001b[0m\u001b[0;34m(\u001b[0m\u001b[0;34m)\u001b[0m\u001b[0;34m\u001b[0m\u001b[0;34m\u001b[0m\u001b[0m\n\u001b[0m",
      "\u001b[0;31mNameError\u001b[0m: name 'np' is not defined"
     ]
    }
   ],
   "source": [
    "recon_data = np.load(\"synthetic_acc_nar_500.npy\", allow_pickle=True).item()"
   ]
  },
  {
   "cell_type": "code",
   "execution_count": 32,
   "metadata": {},
   "outputs": [],
   "source": [
    "X_rec = recon_data['X']\n",
    "y_rec = recon_data['exnum']\n",
    "acc = mdl.score(X_rec, y_rec)"
   ]
  },
  {
   "cell_type": "code",
   "execution_count": 33,
   "metadata": {},
   "outputs": [
    {
     "data": {
      "text/plain": [
       "0.74"
      ]
     },
     "execution_count": 33,
     "metadata": {},
     "output_type": "execute_result"
    }
   ],
   "source": [
    "acc"
   ]
  },
  {
   "cell_type": "markdown",
   "metadata": {},
   "source": [
    "## Experimenting with other timeseries classifiers"
   ]
  },
  {
   "cell_type": "code",
   "execution_count": 5,
   "metadata": {},
   "outputs": [],
   "source": [
    "from sklearn.model_selection import train_test_split\n",
    "from sklearn.preprocessing import LabelEncoder\n",
    "import torch\n",
    "from torch import nn\n",
    "from torch.nn import functional as F\n",
    "from torch.utils.data import TensorDataset, DataLoader, Dataset\n",
    "from torch.optim.lr_scheduler import _LRScheduler"
   ]
  },
  {
   "cell_type": "code",
   "execution_count": 6,
   "metadata": {},
   "outputs": [
    {
     "name": "stdout",
     "output_type": "stream",
     "text": [
      "True\n"
     ]
    }
   ],
   "source": [
    "print(torch.cuda.is_available())\n",
    "device = torch.device(\"cuda\" if torch.cuda.is_available() else \"cpu\")"
   ]
  },
  {
   "cell_type": "code",
   "execution_count": 7,
   "metadata": {},
   "outputs": [
    {
     "name": "stdout",
     "output_type": "stream",
     "text": [
      "4238737408\n",
      "0\n"
     ]
    }
   ],
   "source": [
    "t = torch.cuda.get_device_properties(0).total_memory\n",
    "c = torch.cuda.memory_cached(0)\n",
    "a = torch.cuda.memory_allocated(0)\n",
    "f = c-a  # free inside cache\n",
    "print(t)\n",
    "print(f)"
   ]
  },
  {
   "cell_type": "code",
   "execution_count": 8,
   "metadata": {},
   "outputs": [],
   "source": [
    "# DATALOADING\n",
    "class ExerciseDataset(Dataset):\n",
    "    \"\"\"Shoulder exercise dataset\"\"\"\n",
    "    \n",
    "    def __init__(self, npy_file, length=None, transform=None, sanity_check=None):\n",
    "        self.dataset = np.load(npy_file, allow_pickle=True).item()\n",
    "        self.seq_length = length\n",
    "        self.data = self.process_dataset(length)\n",
    "        self.data = self.data.astype(np.float)\n",
    "        self.targets = self.dataset['exnum']\n",
    "        self.subject = self.dataset['subject']\n",
    "        \n",
    "        self.transform = transform\n",
    "        \n",
    "        if sanity_check is not None:\n",
    "            self.data = [self.data[sanity_check]]\n",
    "            self.targets = [self.targets[sanity_check]]\n",
    "\n",
    "        assert (len(self.data) == len(self.targets))\n",
    "        \n",
    "    def process_dataset(self, length):\n",
    "        shape = [data.shape[0] for data in self.dataset['X']]\n",
    "        if length is None:\n",
    "            average_len = round(sum(shape) / len(shape))\n",
    "            self.seq_length = average_len\n",
    "        processed, _, _ = PadTrunc(width=self.seq_length).transform(X=self.dataset['X'])\n",
    "        return processed\n",
    "    \n",
    "    def __len__(self):\n",
    "        return len(self.data)\n",
    "    \n",
    "    def __getitem__(self, idx):\n",
    "        \n",
    "        return torch.from_numpy(self.data[idx]), self.targets[idx]"
   ]
  },
  {
   "cell_type": "code",
   "execution_count": 9,
   "metadata": {},
   "outputs": [],
   "source": [
    "# dataset = ExerciseDataset(\"resampled_nar.npy\")\n",
    "dataset = ExerciseDataset(\"cropped_resampled_acc_nar.npy\", length=200)"
   ]
  },
  {
   "cell_type": "code",
   "execution_count": 10,
   "metadata": {
    "scrolled": true
   },
   "outputs": [
    {
     "data": {
      "text/plain": [
       "200"
      ]
     },
     "execution_count": 10,
     "metadata": {},
     "output_type": "execute_result"
    }
   ],
   "source": [
    "dataset.seq_length"
   ]
  },
  {
   "cell_type": "code",
   "execution_count": 11,
   "metadata": {},
   "outputs": [],
   "source": [
    "train_size = int(0.8 * len(dataset))\n",
    "test_size = len(dataset) - train_size\n",
    "assert train_size + test_size == len(dataset)\n",
    "train_dataset, test_dataset = torch.utils.data.random_split(dataset, [train_size, test_size])"
   ]
  },
  {
   "cell_type": "code",
   "execution_count": 13,
   "metadata": {},
   "outputs": [],
   "source": [
    "WORKERS=6\n",
    "train_loader = DataLoader(train_dataset, batch_size=64, num_workers=WORKERS, shuffle=True, drop_last=True)\n",
    "test_loader = DataLoader(test_dataset, batch_size=4, num_workers=WORKERS, shuffle=False, drop_last=True)"
   ]
  },
  {
   "cell_type": "code",
   "execution_count": 14,
   "metadata": {},
   "outputs": [],
   "source": [
    "class LSTMClassifier(nn.Module):\n",
    "    \"\"\"Very simple implementation of LSTM-based time-series classifier.\"\"\"\n",
    "    \n",
    "    def __init__(self, input_dim, hidden_dim, layer_dim, output_dim, dropout):\n",
    "        super().__init__()\n",
    "        self.hidden_dim = hidden_dim\n",
    "        self.layer_dim = layer_dim\n",
    "        self.rnn = nn.LSTM(input_dim, hidden_dim, layer_dim, batch_first=True)\n",
    "        self.dropout = nn.Dropout(dropout)\n",
    "        self.fc1 = nn.Linear(hidden_dim, 100)\n",
    "#         self.fc2 = nn.Linear(100, output_dim)\n",
    "        self.fc2 = nn.Linear(hidden_dim, output_dim)\n",
    "        self.batch_size = None\n",
    "        self.hidden = None\n",
    "    \n",
    "    def forward(self, x):\n",
    "        h0, c0 = self.init_hidden(x)\n",
    "        out, (hn, cn) = self.rnn(x, (h0, c0))\n",
    "        out = self.dropout(out)\n",
    "#         out = F.relu(self.fc1(out))\n",
    "#         out = F.softmax(self.fc2(out[:, -1, :]), dim=1)\n",
    "        out = self.fc2(out[:, -1, :])\n",
    "        return out\n",
    "    \n",
    "    def init_hidden(self, x):\n",
    "        h0 = torch.zeros(self.layer_dim, x.size(0), self.hidden_dim)\n",
    "        c0 = torch.zeros(self.layer_dim, x.size(0), self.hidden_dim)\n",
    "        return [t.cuda() for t in (h0, c0)]\n",
    "\n"
   ]
  },
  {
   "cell_type": "code",
   "execution_count": 15,
   "metadata": {},
   "outputs": [],
   "source": [
    "class CyclicLR(_LRScheduler):\n",
    "    \n",
    "    def __init__(self, optimizer, schedule, last_epoch=-1):\n",
    "        assert callable(schedule)\n",
    "        self.schedule = schedule\n",
    "        super().__init__(optimizer, last_epoch)\n",
    "\n",
    "    def get_lr(self):\n",
    "        return [self.schedule(self.last_epoch, lr) for lr in self.base_lrs]"
   ]
  },
  {
   "cell_type": "code",
   "execution_count": 16,
   "metadata": {},
   "outputs": [],
   "source": [
    "def cosine(t_max, eta_min=0):\n",
    "    \n",
    "    def scheduler(epoch, base_lr):\n",
    "        t = epoch % t_max\n",
    "        return eta_min + (base_lr - eta_min)*(1 + np.cos(np.pi*t/t_max))/2\n",
    "    \n",
    "    return scheduler"
   ]
  },
  {
   "cell_type": "code",
   "execution_count": 17,
   "metadata": {},
   "outputs": [
    {
     "data": {
      "text/plain": [
       "[<matplotlib.lines.Line2D at 0x7f23313186d8>]"
      ]
     },
     "execution_count": 17,
     "metadata": {},
     "output_type": "execute_result"
    },
    {
     "data": {
      "image/png": "[encoded data removed]",
      "text/plain": [
       "<Figure size 432x288 with 1 Axes>"
      ]
     },
     "metadata": {
      "needs_background": "light"
     },
     "output_type": "display_data"
    }
   ],
   "source": [
    "n = 100\n",
    "sched = cosine(n)\n",
    "lrs = [sched(t, 1) for t in range(n * 4)]\n",
    "plt.plot(lrs)"
   ]
  },
  {
   "cell_type": "code",
   "execution_count": 18,
   "metadata": {},
   "outputs": [],
   "source": [
    "input_dim = 4\n",
    "# hidden_dim = 256\n",
    "hidden_dim = 128\n",
    "layer_dim = 3\n",
    "output_dim = 9\n",
    "seq_dim = dataset.seq_length\n",
    "\n",
    "lr = 0.0005\n",
    "n_epochs = 100\n",
    "iterations_per_epoch = len(train_loader)\n",
    "best_acc = 0\n",
    "patience, trials = 100, 0"
   ]
  },
  {
   "cell_type": "code",
   "execution_count": 19,
   "metadata": {},
   "outputs": [],
   "source": [
    "model = LSTMClassifier(input_dim, hidden_dim, layer_dim, output_dim, 0.5)\n",
    "model = model.cuda()\n",
    "criterion = nn.CrossEntropyLoss()\n",
    "criterion = criterion.cuda()\n",
    "# opt = torch.optim.RMSprop(model.parameters(), lr=lr)\n",
    "opt = torch.optim.Adam(model.parameters())\n",
    "# sched = CyclicLR(opt, cosine(t_max=iterations_per_epoch * 2, eta_min=lr/100))"
   ]
  },
  {
   "cell_type": "code",
   "execution_count": 20,
   "metadata": {},
   "outputs": [
    {
     "ename": "ZeroDivisionError",
     "evalue": "division by zero",
     "output_type": "error",
     "traceback": [
      "\u001b[0;31m---------------------------------------\u001b[0m",
      "\u001b[0;31mZeroDivisionError\u001b[0mTraceback (most recent call last)",
      "\u001b[0;32m<ipython-input-20-9ab73e148374>\u001b[0m in \u001b[0;36m<module>\u001b[0;34m\u001b[0m\n\u001b[0;32m----> 1\u001b[0;31m \u001b[0;36m0\u001b[0m\u001b[0;34m/\u001b[0m\u001b[0;36m0\u001b[0m\u001b[0;34m\u001b[0m\u001b[0;34m\u001b[0m\u001b[0m\n\u001b[0m",
      "\u001b[0;31mZeroDivisionError\u001b[0m: division by zero"
     ]
    }
   ],
   "source": [
    "0/0"
   ]
  },
  {
   "cell_type": "code",
   "execution_count": null,
   "metadata": {
    "scrolled": false
   },
   "outputs": [],
   "source": [
    "print('Start model training')\n",
    "\n",
    "for epoch in range(1, n_epochs + 1):\n",
    "    loss = None\n",
    "    for i, batch in enumerate(train_loader):\n",
    "#     for i, (x_batch, y_batch) in enumerate(trn_dl):\n",
    "        model.train()\n",
    "        x_batch, y_batch = batch\n",
    "        x_batch = x_batch.float().cuda()\n",
    "        y_batch = y_batch.long().cuda()\n",
    "        \n",
    "        opt.zero_grad()\n",
    "        out = model(x_batch)\n",
    "#         print(out)\n",
    "        loss = criterion(out, y_batch)\n",
    "#         print(loss.item())\n",
    "        loss.backward()\n",
    "        opt.step()\n",
    "#         sched.step()\n",
    "    \n",
    "    model.eval()\n",
    "    correct, total = 0, 0\n",
    "    for j, val in enumerate(test_loader):\n",
    "#     for x_val, y_val in val_dl:\n",
    "        x_val, y_val = val\n",
    "        x_val = x_val.float().cuda()\n",
    "        y_val = y_val.float().cuda()\n",
    "#         x_val, y_val = [t.cuda() for t in (x_val, y_val)]\n",
    "\n",
    "        out = model(x_val)\n",
    "        preds = F.softmax(out, dim=1).argmax(dim=1)\n",
    "#         preds = torch.argmax(out, dim=1)\n",
    "        total += y_val.size(0)\n",
    "        correct += (preds == y_val).sum().item()\n",
    "    \n",
    "    acc = correct / total\n",
    "#     print(acc)\n",
    "\n",
    "#     if epoch % 5 == 0:\n",
    "#         print(f'Epoch: {epoch:3d}. Loss: {loss.item():.4f}. Acc.: {acc:2.2%}')\n",
    "\n",
    "    if epoch % 10 == 0:\n",
    "        print(\"Epoch: {}, acc: {}\".format(epoch, acc))\n",
    "\n",
    "    if acc > best_acc:\n",
    "        trials = 0\n",
    "        best_acc = acc\n",
    "        torch.save(model.state_dict(), 'best.pth')\n",
    "        print(f'Epoch {epoch} best model saved with accuracy: {best_acc:2.2%}')\n",
    "    else:\n",
    "        trials += 1\n",
    "        if trials >= patience:\n",
    "            print(f'Early stopping on epoch {epoch}')\n",
    "            break"
   ]
  },
  {
   "cell_type": "code",
   "execution_count": null,
   "metadata": {
    "scrolled": true
   },
   "outputs": [],
   "source": []
  },
  {
   "cell_type": "markdown",
   "metadata": {},
   "source": [
    "# Evaluation of best model"
   ]
  },
  {
   "cell_type": "code",
   "execution_count": null,
   "metadata": {},
   "outputs": [],
   "source": [
    "torch.multiprocessing.set_sharing_strategy('file_system')\n",
    "test_loader = DataLoader(test_dataset, batch_size=4, num_workers=0, shuffle=False, drop_last=True)"
   ]
  },
  {
   "cell_type": "code",
   "execution_count": null,
   "metadata": {
    "scrolled": true
   },
   "outputs": [],
   "source": [
    "clf = LSTMClassifier(input_dim, hidden_dim, layer_dim, output_dim, 0.5)\n",
    "clf.load_state_dict(torch.load(\"best_200_92.pth\"))\n",
    "clf = clf.cuda()\n",
    "clf.eval()"
   ]
  },
  {
   "cell_type": "code",
   "execution_count": null,
   "metadata": {},
   "outputs": [],
   "source": [
    "# Evaluation\n",
    "predicted = []\n",
    "actual = []\n",
    "total = 0\n",
    "correct = 0\n",
    "for j, val in enumerate(test_loader):\n",
    "    x_val, y_val = val\n",
    "    actual.append(y_val.numpy())\n",
    "    \n",
    "    x_val = x_val.float().cuda()\n",
    "    y_val = y_val.float().cuda()\n",
    "\n",
    "    out = clf(x_val)\n",
    "    preds = F.softmax(out, dim=1).argmax(dim=1)\n",
    "    predicted.append(preds.cpu().numpy())\n",
    "    \n",
    "    total += y_val.size(0)\n",
    "    correct += (preds == y_val).sum().item()\n",
    "acc = correct / total\n",
    "print(\"Overall accuracY: {}\".format(acc))"
   ]
  },
  {
   "cell_type": "code",
   "execution_count": null,
   "metadata": {},
   "outputs": [],
   "source": [
    "ac = [label for array in actual for label in array]"
   ]
  },
  {
   "cell_type": "code",
   "execution_count": null,
   "metadata": {},
   "outputs": [],
   "source": [
    "pre = [label for array in predicted for label in array]"
   ]
  },
  {
   "cell_type": "code",
   "execution_count": null,
   "metadata": {},
   "outputs": [],
   "source": [
    "labels = ['PEN','FLEX', 'SCAP', 'ABD', 'IR', 'ER', 'DIAG', 'ROW', 'SLR']"
   ]
  },
  {
   "cell_type": "code",
   "execution_count": null,
   "metadata": {},
   "outputs": [],
   "source": [
    "# Confusion matrix\n",
    "conf_matrix = confusion_matrix(ac, pre)\n",
    "plt.matshow(conf_matrix, cmap='viridis', interpolation='nearest')\n",
    "plt.colorbar()"
   ]
  },
  {
   "cell_type": "code",
   "execution_count": null,
   "metadata": {},
   "outputs": [],
   "source": [
    "out = clf(test[None])"
   ]
  },
  {
   "cell_type": "code",
   "execution_count": null,
   "metadata": {},
   "outputs": [],
   "source": [
    "preds = F.softmax(out, dim=1).argmax(dim=1)\n",
    "preds"
   ]
  },
  {
   "cell_type": "code",
   "execution_count": null,
   "metadata": {},
   "outputs": [],
   "source": [
    "predicted"
   ]
  },
  {
   "cell_type": "code",
   "execution_count": null,
   "metadata": {},
   "outputs": [],
   "source": [
    "actual"
   ]
  },
  {
   "cell_type": "code",
   "execution_count": null,
   "metadata": {},
   "outputs": [],
   "source": []
  }
 ],
 "metadata": {
  "kernelspec": {
   "display_name": "Python 3",
   "language": "python",
   "name": "python3"
  },
  "language_info": {
   "codemirror_mode": {
    "name": "ipython",
    "version": 3
   },
   "file_extension": ".py",
   "mimetype": "text/x-python",
   "name": "python",
   "nbconvert_exporter": "python",
   "pygments_lexer": "ipython3",
   "version": "3.7.3"
  }
 },
 "nbformat": 4,
 "nbformat_minor": 2
}