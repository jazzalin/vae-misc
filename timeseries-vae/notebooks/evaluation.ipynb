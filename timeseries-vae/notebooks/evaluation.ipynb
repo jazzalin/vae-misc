{
 "cells": [
  {
   "cell_type": "code",
   "execution_count": 1,
   "metadata": {},
   "outputs": [],
   "source": [
    "import torch\n",
    "from torchtext import data\n",
    "import re\n",
    "import torch.nn.functional as F\n",
    "from torch import nn\n",
    "from torch.utils.data import DataLoader, Dataset\n",
    "import torchvision.transforms as transforms\n",
    "import torchvision.transforms.functional as tF\n",
    "from torchvision.datasets import MNIST\n",
    "from skimage import io, transform\n",
    "import random"
   ]
  },
  {
   "cell_type": "code",
   "execution_count": 2,
   "metadata": {},
   "outputs": [],
   "source": [
    "import numpy as np\n",
    "import pandas as pd\n",
    "import matplotlib.pyplot as plt\n",
    "import glob\n",
    "from seglearn.transform import InterpLongToWide, SegmentX, FeatureRep, PadTrunc\n",
    "from seglearn.pipe import Pype\n",
    "from sklearn.preprocessing import StandardScaler\n",
    "from sklearn.ensemble import RandomForestClassifier\n",
    "from sklearn.discriminant_analysis import LinearDiscriminantAnalysis\n",
    "from sklearn.model_selection import GroupKFold, StratifiedKFold, KFold, train_test_split\n",
    "from sklearn.metrics import confusion_matrix, classification_report\n",
    "%matplotlib inline"
   ]
  },
  {
   "cell_type": "code",
   "execution_count": 3,
   "metadata": {},
   "outputs": [
    {
     "name": "stdout",
     "output_type": "stream",
     "text": [
      "True\n"
     ]
    }
   ],
   "source": [
    "print(torch.cuda.is_available())\n",
    "device = torch.device(\"cuda\" if torch.cuda.is_available() else \"cpu\")"
   ]
  },
  {
   "cell_type": "markdown",
   "metadata": {},
   "source": [
    "# Evaluation of best model"
   ]
  },
  {
   "cell_type": "code",
   "execution_count": 4,
   "metadata": {},
   "outputs": [],
   "source": [
    "class LSTMClassifier(nn.Module):\n",
    "    \"\"\"Very simple implementation of LSTM-based time-series classifier.\"\"\"\n",
    "    \n",
    "    def __init__(self, input_dim, hidden_dim, layer_dim, output_dim, dropout):\n",
    "        super().__init__()\n",
    "        self.hidden_dim = hidden_dim\n",
    "        self.layer_dim = layer_dim\n",
    "        self.rnn = nn.LSTM(input_dim, hidden_dim, layer_dim, batch_first=True)\n",
    "        self.dropout = nn.Dropout(dropout)\n",
    "#         self.fc1 = nn.Linear(hidden_dim, 100)\n",
    "#         self.fc2 = nn.Linear(100, output_dim)\n",
    "        self.fc2 = nn.Linear(hidden_dim, output_dim)\n",
    "        self.batch_size = None\n",
    "        self.hidden = None\n",
    "    \n",
    "    def forward(self, x):\n",
    "        h0, c0 = self.init_hidden(x)\n",
    "        out, (hn, cn) = self.rnn(x, (h0, c0))\n",
    "        out = self.dropout(out)\n",
    "#         out = F.relu(self.fc1(out))\n",
    "#         out = F.softmax(self.fc2(out[:, -1, :]), dim=1)\n",
    "        out = self.fc2(out[:, -1, :])\n",
    "        return out\n",
    "    \n",
    "    def init_hidden(self, x):\n",
    "        h0 = torch.zeros(self.layer_dim, x.size(0), self.hidden_dim)\n",
    "        c0 = torch.zeros(self.layer_dim, x.size(0), self.hidden_dim)\n",
    "        return [t.cuda() for t in (h0, c0)]\n",
    "\n"
   ]
  },
  {
   "cell_type": "code",
   "execution_count": 5,
   "metadata": {},
   "outputs": [],
   "source": [
    "# DATALOADING\n",
    "class ExerciseDataset(Dataset):\n",
    "    \"\"\"Shoulder exercise dataset\"\"\"\n",
    "    \n",
    "    def __init__(self, npy_file, length=None, transform=None, sanity_check=None):\n",
    "        self.dataset = np.load(npy_file, allow_pickle=True).item()\n",
    "        self.seq_length = length\n",
    "        self.data = self.process_dataset(length)\n",
    "        self.original_data = self.data.copy()\n",
    "        self.data = self.data.astype(np.float)\n",
    "        self.targets = self.dataset['exnum']\n",
    "        self.original_targets = self.targets.copy()\n",
    "#         self.subject = self.dataset['subject']\n",
    "#         self.original_subject = self.subject.copy()\n",
    "        \n",
    "        self.transform = transform\n",
    "        \n",
    "        if sanity_check is not None:\n",
    "            self.data = [self.data[sanity_check]]\n",
    "            self.targets = [self.targets[sanity_check]]\n",
    "\n",
    "        assert (len(self.data) == len(self.targets))\n",
    "        \n",
    "    def process_dataset(self, length):\n",
    "        shape = [data.shape[0] for data in self.dataset['X']]\n",
    "        if length is None:\n",
    "            average_len = round(sum(shape) / len(shape))\n",
    "            self.seq_length = average_len\n",
    "        processed, _, _ = PadTrunc(width=self.seq_length).transform(X=self.dataset['X'])\n",
    "        return processed\n",
    "    \n",
    "    def fold(self, fold_indices):\n",
    "        # Create fold for K-fold validation\n",
    "        self.data = self.original_data[fold_indices]\n",
    "        self.targets = self.original_targets[fold_indices]\n",
    "        self.subject = self.original_subject[fold_indices]\n",
    "    \n",
    "    def __len__(self):\n",
    "        return len(self.data)\n",
    "    \n",
    "    def __getitem__(self, idx):\n",
    "        \n",
    "        return torch.from_numpy(self.data[idx][:, 1:]), self.targets[idx]"
   ]
  },
  {
   "cell_type": "code",
   "execution_count": 6,
   "metadata": {},
   "outputs": [],
   "source": [
    "exercises = {\n",
    "    0: 'PEN',\n",
    "    1: 'FLEX',\n",
    "    2: 'SCAP',\n",
    "    3: 'ABD',\n",
    "    4: 'IR',\n",
    "    5: 'ER',\n",
    "    6: 'DIAG',\n",
    "    7: 'ROW',\n",
    "    8: 'SLR'\n",
    "}"
   ]
  },
  {
   "cell_type": "code",
   "execution_count": 7,
   "metadata": {},
   "outputs": [],
   "source": [
    "#Model\n",
    "input_dim = 3\n",
    "hidden_dim = 128\n",
    "layer_dim = 3\n",
    "output_dim = 9 # 9 classes\n",
    "# seq_dim = dataset.seq_length\n",
    "\n",
    "# iterations_per_epoch = len(train_loader)\n",
    "best_acc = 0\n",
    "patience, trials = 100, 0"
   ]
  },
  {
   "cell_type": "code",
   "execution_count": 8,
   "metadata": {},
   "outputs": [],
   "source": [
    "# dataset = ExerciseDataset(\"resampled_nar.npy\")\n",
    "# dataset = ExerciseDataset(\"recon_synthetic_acc_nar.npy\")\n",
    "# dataset = ExerciseDataset(\"recon_vrae.npy\")\n",
    "# dataset = ExerciseDataset(\"recon_acc.npy\", length=200)\n",
    "# recon_dataset = ExerciseDataset(\"recons.npy\", length=200)\n",
    "# new_dataset = ExerciseDataset(\"generated.npy\", length=200)\n",
    "dataset = ExerciseDataset(\"cropped_resampled_acc_nar.npy\", length=200)"
   ]
  },
  {
   "cell_type": "code",
   "execution_count": 26,
   "metadata": {},
   "outputs": [],
   "source": [
    "train_size = int(0.8 * len(dataset))\n",
    "test_size = len(dataset) - train_size\n",
    "assert train_size + test_size == len(dataset)\n",
    "train_dataset, test_dataset = torch.utils.data.random_split(dataset, [train_size, test_size])"
   ]
  },
  {
   "cell_type": "code",
   "execution_count": 27,
   "metadata": {},
   "outputs": [
    {
     "data": {
      "text/plain": [
       "6522"
      ]
     },
     "execution_count": 27,
     "metadata": {},
     "output_type": "execute_result"
    }
   ],
   "source": [
    "len(test_dataset)"
   ]
  },
  {
   "cell_type": "code",
   "execution_count": 28,
   "metadata": {},
   "outputs": [],
   "source": [
    "# test_loader = DataLoader(dataset, batch_size=4, num_workers=6, shuffle=False, drop_last=True)"
   ]
  },
  {
   "cell_type": "code",
   "execution_count": 29,
   "metadata": {
    "scrolled": false
   },
   "outputs": [],
   "source": [
    "# dataset = new_dataset\n",
    "# index = np.random.randint(50)\n",
    "# plt.rcParams.update({'font.size': 22})\n",
    "# plt.figure(figsize=(24, 12))\n",
    "# label = dataset[index][1][0]\n",
    "# print(\"Label: {}\".format(dataset[index][1]))\n",
    "# plt.plot(dataset[index][0][:, 0], label=\"x\")\n",
    "# plt.plot(dataset[index][0][:, 1], label=\"y\")\n",
    "# plt.plot(dataset[index][0][:, 2], label=\"z\")\n",
    "\n",
    "\n",
    "# plt.plot(dataset.dataset['original'][index][:, 0], label=\"recon_x\")\n",
    "# plt.plot(dataset.dataset['original'][index][:, 1], label=\"recon_y\")\n",
    "# plt.plot(dataset.dataset['original'][index][:, 2], label=\"recon_z\")\n",
    "# plt.legend(loc=\"upper left\")\n",
    "# plt.title(\"Sequence reconstruction example (exercise: {})\".format(exercises[label]))\n",
    "# plt.xlabel(\"Time [s]\")\n",
    "# plt.ylabel(r'acceleration $[ms^{-2}]$')"
   ]
  },
  {
   "cell_type": "code",
   "execution_count": 30,
   "metadata": {},
   "outputs": [],
   "source": [
    "# original = dataset.dataset['original']\n",
    "# original.shape"
   ]
  },
  {
   "cell_type": "code",
   "execution_count": null,
   "metadata": {},
   "outputs": [],
   "source": []
  },
  {
   "cell_type": "code",
   "execution_count": 31,
   "metadata": {},
   "outputs": [],
   "source": [
    "torch.multiprocessing.set_sharing_strategy('file_system')\n",
    "test_loader = DataLoader(test_dataset, batch_size=1, num_workers=0, shuffle=False, drop_last=True)"
   ]
  },
  {
   "cell_type": "code",
   "execution_count": 46,
   "metadata": {},
   "outputs": [
    {
     "data": {
      "text/plain": [
       "LSTMClassifier(\n",
       "  (rnn): LSTM(3, 128, num_layers=3, batch_first=True)\n",
       "  (dropout): Dropout(p=0.5, inplace=False)\n",
       "  (fc2): Linear(in_features=128, out_features=9, bias=True)\n",
       ")"
      ]
     },
     "execution_count": 46,
     "metadata": {},
     "output_type": "execute_result"
    }
   ],
   "source": [
    "clf = LSTMClassifier(input_dim, hidden_dim, layer_dim, output_dim, 0.5)\n",
    "# clf.load_state_dict(torch.load(\"best_200_92.pth\"))\n",
    "# clf.load_state_dict(torch.load(\"clf_pre_aug.pth\"))\n",
    "clf.load_state_dict(torch.load(\"clf_post_aug.pth\"))\n",
    "clf = clf.cuda()\n",
    "clf.eval()"
   ]
  },
  {
   "cell_type": "code",
   "execution_count": 47,
   "metadata": {},
   "outputs": [
    {
     "name": "stdout",
     "output_type": "stream",
     "text": [
      "Overall accuracY: 0.7795154860472248\n"
     ]
    }
   ],
   "source": [
    "# Evaluation\n",
    "predicted = []\n",
    "actual = []\n",
    "total = 0\n",
    "correct = 0\n",
    "for j, val in enumerate(test_loader):\n",
    "    x_val, y_val = val\n",
    "    actual.append(y_val.numpy())\n",
    "    \n",
    "    x_val = x_val.float().cuda()\n",
    "    y_val = y_val.float().cuda()\n",
    "\n",
    "    out = clf(x_val)\n",
    "    preds = F.softmax(out, dim=1).argmax(dim=1)\n",
    "    predicted.append(preds.cpu().numpy())\n",
    "    \n",
    "    total += y_val.size(0)\n",
    "    correct += (preds == y_val).sum().item()\n",
    "acc = correct / total\n",
    "print(\"Overall accuracY: {}\".format(acc))"
   ]
  },
  {
   "cell_type": "code",
   "execution_count": 48,
   "metadata": {},
   "outputs": [
    {
     "data": {
      "text/plain": [
       "77.95"
      ]
     },
     "execution_count": 48,
     "metadata": {},
     "output_type": "execute_result"
    }
   ],
   "source": [
    "round(acc * 100, 2)"
   ]
  },
  {
   "cell_type": "code",
   "execution_count": 49,
   "metadata": {},
   "outputs": [],
   "source": [
    "ac = [label for array in actual for label in array]"
   ]
  },
  {
   "cell_type": "code",
   "execution_count": 50,
   "metadata": {},
   "outputs": [],
   "source": [
    "pre = [label for array in predicted for label in array]"
   ]
  },
  {
   "cell_type": "code",
   "execution_count": 51,
   "metadata": {},
   "outputs": [],
   "source": [
    "labels = ['PEN','FLEX', 'SCAP', 'ABD', 'IR', 'ER', 'DIAG', 'ROW', 'SLR']"
   ]
  },
  {
   "cell_type": "code",
   "execution_count": 52,
   "metadata": {},
   "outputs": [
    {
     "data": {
      "text/plain": [
       "Text(0.5, 1.05, 'Post-augmentation accuracy: 77.95')"
      ]
     },
     "execution_count": 52,
     "metadata": {},
     "output_type": "execute_result"
    },
    {
     "data": {
      "text/plain": [
       "<Figure size 1728x1728 with 0 Axes>"
      ]
     },
     "metadata": {},
     "output_type": "display_data"
    },
    {
     "data": {
      "image/png": "[encoded data removed]",
      "text/plain": [
       "<Figure size 288x288 with 1 Axes>"
      ]
     },
     "metadata": {
      "needs_background": "light"
     },
     "output_type": "display_data"
    }
   ],
   "source": [
    "# Confusion matrix\n",
    "plt.figure(figsize=(24, 24))\n",
    "conf_matrix = confusion_matrix(ac, pre)\n",
    "plt.matshow(conf_matrix, cmap='Blues', interpolation='nearest')\n",
    "# plt.colorbar()\n",
    "plt.axis('off')\n",
    "plt.title(\"Post-augmentation accuracy: {}\".format(round(acc*100, 2)))\n",
    "# print(classification_report(ac, pre))"
   ]
  },
  {
   "cell_type": "code",
   "execution_count": 22,
   "metadata": {},
   "outputs": [
    {
     "ename": "ImportError",
     "evalue": "cannot import name 'pl' from 'sklearn.metrics' (/home/lja/Documents/waterloo/4A/CS/assignments/lib/python3.7/site-packages/sklearn/metrics/__init__.py)",
     "output_type": "error",
     "traceback": [
      "\u001b[0;31m---------------------------------------\u001b[0m",
      "\u001b[0;31mImportError\u001b[0mTraceback (most recent call last)",
      "\u001b[0;32m<ipython-input-22-5f38889fb820>\u001b[0m in \u001b[0;36m<module>\u001b[0;34m\u001b[0m\n\u001b[0;32m----> 1\u001b[0;31m \u001b[0;32mfrom\u001b[0m \u001b[0msklearn\u001b[0m\u001b[0;34m.\u001b[0m\u001b[0mmetrics\u001b[0m \u001b[0;32mimport\u001b[0m \u001b[0mpl\u001b[0m\u001b[0;34m\u001b[0m\u001b[0;34m\u001b[0m\u001b[0m\n\u001b[0m",
      "\u001b[0;31mImportError\u001b[0m: cannot import name 'pl' from 'sklearn.metrics' (/home/lja/Documents/waterloo/4A/CS/assignments/lib/python3.7/site-packages/sklearn/metrics/__init__.py)"
     ]
    }
   ],
   "source": [
    "from sklearn.metrics import pl"
   ]
  }
 ],
 "metadata": {
  "kernelspec": {
   "display_name": "Python 3",
   "language": "python",
   "name": "python3"
  },
  "language_info": {
   "codemirror_mode": {
    "name": "ipython",
    "version": 3
   },
   "file_extension": ".py",
   "mimetype": "text/x-python",
   "name": "python",
   "nbconvert_exporter": "python",
   "pygments_lexer": "ipython3",
   "version": "3.7.3"
  }
 },
 "nbformat": 4,
 "nbformat_minor": 2
}